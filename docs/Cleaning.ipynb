{
 "cells": [
  {
   "cell_type": "code",
   "execution_count": 1,
   "metadata": {},
   "outputs": [],
   "source": [
    "import pandas as pd\n",
    "import numpy as np"
   ]
  },
  {
   "cell_type": "code",
   "execution_count": 61,
   "metadata": {},
   "outputs": [],
   "source": [
    "# Loading the data\n",
    "data = pd.read_excel(\"../data/Sorted_Workbook.xlsx\",sheet_name=\"Sheet1\")"
   ]
  },
  {
   "cell_type": "code",
   "execution_count": 62,
   "metadata": {},
   "outputs": [],
   "source": [
    "data.columns = [c.strip().replace(\" \",\"_\") for c in data.columns.values.tolist()]"
   ]
  },
  {
   "cell_type": "code",
   "execution_count": 63,
   "metadata": {},
   "outputs": [
    {
     "data": {
      "text/plain": [
       "Index(['Year', 'Month', 'Country_of_origin', 'Imports_hardcoal_tonnes',\n",
       "       'Imports_hardcoal_gigajoules', 'Average_calorificvalue_hardcoal',\n",
       "       'Imports_hardcoal_euros', 'Imports_hardcoal_eurospert',\n",
       "       'Imports_of_hard_coal_in_euros/tce'],\n",
       "      dtype='object')"
      ]
     },
     "execution_count": 63,
     "metadata": {},
     "output_type": "execute_result"
    }
   ],
   "source": [
    "data.columns"
   ]
  },
  {
   "cell_type": "code",
   "execution_count": 64,
   "metadata": {},
   "outputs": [
    {
     "data": {
      "text/html": [
       "<div>\n",
       "<style scoped>\n",
       "    .dataframe tbody tr th:only-of-type {\n",
       "        vertical-align: middle;\n",
       "    }\n",
       "\n",
       "    .dataframe tbody tr th {\n",
       "        vertical-align: top;\n",
       "    }\n",
       "\n",
       "    .dataframe thead th {\n",
       "        text-align: right;\n",
       "    }\n",
       "</style>\n",
       "<table border=\"1\" class=\"dataframe\">\n",
       "  <thead>\n",
       "    <tr style=\"text-align: right;\">\n",
       "      <th></th>\n",
       "      <th>Year</th>\n",
       "      <th>Month</th>\n",
       "      <th>Country_of_origin</th>\n",
       "      <th>Imports_hardcoal_tonnes</th>\n",
       "      <th>Imports_hardcoal_gigajoules</th>\n",
       "      <th>Average_calorificvalue_hardcoal</th>\n",
       "      <th>Imports_hardcoal_euros</th>\n",
       "      <th>Imports_hardcoal_eurospert</th>\n",
       "      <th>Imports_of_hard_coal_in_euros/tce</th>\n",
       "    </tr>\n",
       "  </thead>\n",
       "  <tbody>\n",
       "    <tr>\n",
       "      <th>0</th>\n",
       "      <td>2004</td>\n",
       "      <td>January</td>\n",
       "      <td>EU countries</td>\n",
       "      <td>3280</td>\n",
       "      <td>61556</td>\n",
       "      <td>18767</td>\n",
       "      <td>116541</td>\n",
       "      <td>35.53</td>\n",
       "      <td>55.49</td>\n",
       "    </tr>\n",
       "    <tr>\n",
       "      <th>1</th>\n",
       "      <td>2004</td>\n",
       "      <td>January</td>\n",
       "      <td>Third countries</td>\n",
       "      <td>3586305</td>\n",
       "      <td>95536615</td>\n",
       "      <td>26639</td>\n",
       "      <td>150263584</td>\n",
       "      <td>41.9</td>\n",
       "      <td>46.1</td>\n",
       "    </tr>\n",
       "    <tr>\n",
       "      <th>2</th>\n",
       "      <td>2004</td>\n",
       "      <td>January</td>\n",
       "      <td>United Kingdom</td>\n",
       "      <td>-</td>\n",
       "      <td>-</td>\n",
       "      <td>-</td>\n",
       "      <td>-</td>\n",
       "      <td>-</td>\n",
       "      <td>-</td>\n",
       "    </tr>\n",
       "    <tr>\n",
       "      <th>3</th>\n",
       "      <td>2004</td>\n",
       "      <td>January</td>\n",
       "      <td>Russian Federation</td>\n",
       "      <td>301727</td>\n",
       "      <td>7822842</td>\n",
       "      <td>25927</td>\n",
       "      <td>12736439</td>\n",
       "      <td>42.21</td>\n",
       "      <td>47.72</td>\n",
       "    </tr>\n",
       "    <tr>\n",
       "      <th>4</th>\n",
       "      <td>2004</td>\n",
       "      <td>January</td>\n",
       "      <td>South Africa</td>\n",
       "      <td>1059709</td>\n",
       "      <td>26718972</td>\n",
       "      <td>25213</td>\n",
       "      <td>37711705</td>\n",
       "      <td>35.59</td>\n",
       "      <td>41.37</td>\n",
       "    </tr>\n",
       "  </tbody>\n",
       "</table>\n",
       "</div>"
      ],
      "text/plain": [
       "   Year    Month   Country_of_origin Imports_hardcoal_tonnes  \\\n",
       "0  2004  January        EU countries                    3280   \n",
       "1  2004  January     Third countries                 3586305   \n",
       "2  2004  January      United Kingdom                       -   \n",
       "3  2004  January  Russian Federation                  301727   \n",
       "4  2004  January        South Africa                 1059709   \n",
       "\n",
       "  Imports_hardcoal_gigajoules Average_calorificvalue_hardcoal  \\\n",
       "0                       61556                           18767   \n",
       "1                    95536615                           26639   \n",
       "2                           -                               -   \n",
       "3                     7822842                           25927   \n",
       "4                    26718972                           25213   \n",
       "\n",
       "  Imports_hardcoal_euros Imports_hardcoal_eurospert  \\\n",
       "0                 116541                      35.53   \n",
       "1              150263584                       41.9   \n",
       "2                      -                          -   \n",
       "3               12736439                      42.21   \n",
       "4               37711705                      35.59   \n",
       "\n",
       "  Imports_of_hard_coal_in_euros/tce  \n",
       "0                             55.49  \n",
       "1                              46.1  \n",
       "2                                 -  \n",
       "3                             47.72  \n",
       "4                             41.37  "
      ]
     },
     "execution_count": 64,
     "metadata": {},
     "output_type": "execute_result"
    }
   ],
   "source": [
    "data.head()"
   ]
  },
  {
   "cell_type": "code",
   "execution_count": 65,
   "metadata": {},
   "outputs": [
    {
     "data": {
      "text/plain": [
       "Index(['Year', 'Month', 'Country_of_origin', 'Imports_hardcoal_tonnes',\n",
       "       'Imports_hardcoal_gigajoules', 'Average_calorificvalue_hardcoal',\n",
       "       'Imports_hardcoal_euros', 'Imports_hardcoal_eurospert',\n",
       "       'Imports_of_hard_coal_in_euros/tce'],\n",
       "      dtype='object')"
      ]
     },
     "execution_count": 65,
     "metadata": {},
     "output_type": "execute_result"
    }
   ],
   "source": [
    "data.columns"
   ]
  },
  {
   "attachments": {},
   "cell_type": "markdown",
   "metadata": {},
   "source": [
    "##### -\t== no figures or magnitude zero\n",
    "##### . == numerical value unknown or not to be disclosed"
   ]
  },
  {
   "cell_type": "code",
   "execution_count": 66,
   "metadata": {},
   "outputs": [],
   "source": [
    "data = data.replace({\"-\":0,\".\":np.nan})"
   ]
  },
  {
   "cell_type": "code",
   "execution_count": 67,
   "metadata": {},
   "outputs": [
    {
     "name": "stdout",
     "output_type": "stream",
     "text": [
      "<class 'pandas.core.frame.DataFrame'>\n",
      "RangeIndex: 2280 entries, 0 to 2279\n",
      "Data columns (total 9 columns):\n",
      " #   Column                             Non-Null Count  Dtype  \n",
      "---  ------                             --------------  -----  \n",
      " 0   Year                               2280 non-null   int64  \n",
      " 1   Month                              2280 non-null   object \n",
      " 2   Country_of_origin                  2280 non-null   object \n",
      " 3   Imports_hardcoal_tonnes            1950 non-null   float64\n",
      " 4   Imports_hardcoal_gigajoules        1950 non-null   float64\n",
      " 5   Average_calorificvalue_hardcoal    1950 non-null   float64\n",
      " 6   Imports_hardcoal_euros             1950 non-null   float64\n",
      " 7   Imports_hardcoal_eurospert         1950 non-null   float64\n",
      " 8   Imports_of_hard_coal_in_euros/tce  1950 non-null   float64\n",
      "dtypes: float64(6), int64(1), object(2)\n",
      "memory usage: 160.4+ KB\n"
     ]
    }
   ],
   "source": [
    "data.info()"
   ]
  },
  {
   "cell_type": "code",
   "execution_count": 68,
   "metadata": {},
   "outputs": [],
   "source": [
    "data.to_csv(\"../data/CleanedData.csv\")"
   ]
  },
  {
   "cell_type": "code",
   "execution_count": null,
   "metadata": {},
   "outputs": [],
   "source": []
  }
 ],
 "metadata": {
  "kernelspec": {
   "display_name": "Python 3",
   "language": "python",
   "name": "python3"
  },
  "language_info": {
   "codemirror_mode": {
    "name": "ipython",
    "version": 3
   },
   "file_extension": ".py",
   "mimetype": "text/x-python",
   "name": "python",
   "nbconvert_exporter": "python",
   "pygments_lexer": "ipython3",
   "version": "3.8.10"
  },
  "orig_nbformat": 4
 },
 "nbformat": 4,
 "nbformat_minor": 2
}
