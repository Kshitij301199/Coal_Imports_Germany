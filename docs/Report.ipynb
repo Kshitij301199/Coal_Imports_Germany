{
 "cells": [
  {
   "attachments": {},
   "cell_type": "markdown",
   "metadata": {},
   "source": [
    "# Coal Imports Germany"
   ]
  },
  {
   "attachments": {},
   "cell_type": "markdown",
   "metadata": {},
   "source": [
    "After looking at the data, we can ask a few questions such as:\n",
    "\n",
    "- Which Country does Germany import the most coal from (in tonnes)?\n",
    "- Which Country does Germany pay the most for the coal (in euros)?\n",
    "- What is the trend of import through the year based on the month and how has it changed from 2004 to 2022?\n",
    "- How has the average cost of import changed since 2004?"
   ]
  },
  {
   "attachments": {},
   "cell_type": "markdown",
   "metadata": {},
   "source": [
    "---"
   ]
  },
  {
   "attachments": {},
   "cell_type": "markdown",
   "metadata": {},
   "source": [
    "## Which Country does Germany import the most coal from (in tonnes)?\n",
    "## Which Country does Germany pay the most for the coal (in euros)?"
   ]
  },
  {
   "attachments": {},
   "cell_type": "markdown",
   "metadata": {},
   "source": [
    "<div>\n",
    "<img src=\"../images/Country_of_Origin_Comparison.jpg\" width=\"1000\"/>\n",
    "</div>\n",
    "\n",
    "The list of countries or group of countries within which the data was separated was :\n",
    "- Australia\n",
    "- Canada\n",
    "- Colombia\n",
    "- EU Countries\n",
    "- Other third Countries\n",
    "- Russian Federation\n",
    "- South Africa\n",
    "- Third Countries\n",
    "- United Kingdom\n",
    "- United States\n",
    "\n",
    "The image on the left shows the average (averaged over each month) amount of coal imported in tonnes and the image on the right shows the average euros spent per tonne for the coal.\n",
    "\n",
    "The barplot of the left shows that germany imports a majority (45.75%) from Third Countries, around 15.65% from the Russian Federation and none from the United Kingdom.\n",
    "\n",
    "While Germany imports only 6.55% of its total coal import from Australia, it pays the most euros (154 EUR) per tonne and a similar pattern is seen for Canada, from where Germany imports its lowest amount (2%), it pays the second highest (141 EUR) per tonne.\n"
   ]
  },
  {
   "attachments": {},
   "cell_type": "markdown",
   "metadata": {},
   "source": [
    "<div>\n",
    "<img src=\"../images/Country_of_Origin_TotalEuros.jpg\" width=\"500\"/>\n",
    "</div>\n",
    "\n",
    "However, due to the vast quantity that Germany imports from Third Countries, the maximum expenditure in on imports from Third Countries (46.75%) while the second and third most expediture is on imports from the Russian Federation (14%) and Australia (10.23%)."
   ]
  },
  {
   "attachments": {},
   "cell_type": "markdown",
   "metadata": {},
   "source": [
    "---"
   ]
  },
  {
   "attachments": {},
   "cell_type": "markdown",
   "metadata": {},
   "source": [
    "## What is the trend of import through the year based on the month and how has it changed from 2004 to 2022?"
   ]
  },
  {
   "attachments": {},
   "cell_type": "markdown",
   "metadata": {},
   "source": [
    "![Import Hardcoal Yearly](../images/Import_hardcoal_yearly.jpg)"
   ]
  },
  {
   "attachments": {},
   "cell_type": "markdown",
   "metadata": {},
   "source": []
  }
 ],
 "metadata": {
  "language_info": {
   "name": "python"
  },
  "orig_nbformat": 4
 },
 "nbformat": 4,
 "nbformat_minor": 2
}
