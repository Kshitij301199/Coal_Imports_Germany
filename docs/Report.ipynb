{
 "cells": [
  {
   "attachments": {},
   "cell_type": "markdown",
   "metadata": {},
   "source": [
    "# Coal Imports Germany"
   ]
  },
  {
   "attachments": {},
   "cell_type": "markdown",
   "metadata": {},
   "source": [
    "After looking at the data, we can ask a few questions such as:\n",
    "\n",
    "- Which Country does Germany import the most coal from (in tonnes)?\n",
    "- Which Country does Germany pay the most for the coal (in euros)?\n",
    "- What is the trend of import through the year based on the month and how has it changed from 2004 to 2022?\n",
    "- How has the average cost of import changed since 2004?"
   ]
  },
  {
   "attachments": {},
   "cell_type": "markdown",
   "metadata": {},
   "source": [
    "---"
   ]
  },
  {
   "attachments": {},
   "cell_type": "markdown",
   "metadata": {},
   "source": [
    "### Which Country does Germany import the most coal from (in tonnes)? Which Country does Germany pay the most for the coal (in euros)?"
   ]
  },
  {
   "attachments": {},
   "cell_type": "markdown",
   "metadata": {},
   "source": [
    "<div>\n",
    "<img src=\"..\images\Country_of_Origin_Comparison.jpg\" width=\"1000\"/>\n",
    "</div>\n",
    "\n",
    "The list of countries or group of countries within which the data was separated was :\n",
    "- Australia\n",
    "- Canada\n",
    "- Colombia\n",
    "- EU Countries\n",
    "- Other third Countries\n",
    "- Russian Federation\n",
    "- South Africa\n",
    "- Third Countries\n",
    "- United Kingdom\n",
    "- United States\n",
    "\n",
    "The image on the left shows the average (averaged over each month) amount of coal imported in tonnes and the image on the right shows the average euros spent per tonne for the coal.\n",
    "\n",
    "The barplot of the left shows that germany imports a majority (45.75%) from Third Countries, around 15.65% from the Russian Federation and none from the United Kingdom.\n",
    "\n",
    "While Germany imports only 6.55% of its total coal import from Australia, it pays the most euros (154 EUR) per tonne and a similar pattern is seen for Canada, from where Germany imports its lowest amount (2%), it pays the second highest (141 EUR) per tonne.\n"
   ]
  },
  {
   "attachments": {},
   "cell_type": "markdown",
   "metadata": {},
   "source": [
    "<div>\n",
    "<img src=\"../images/Country_of_Origin_TotalEuros.jpg\" width=\"700\"/>\n",
    "</div>\n",
    "\n",
    "However, due to the vast quantity that Germany imports from Third Countries, the maximum expenditure is on imports from Third Countries (46.75%) while the second and third most expediture is on imports from the Russian Federation (14%) and Australia (10.23%)."
   ]
  },
  {
   "attachments": {},
   "cell_type": "markdown",
   "metadata": {},
   "source": [
    "---"
   ]
  },
  {
   "attachments": {},
   "cell_type": "markdown",
   "metadata": {},
   "source": [
    "### How has the average cost of import changed since 2004?"
   ]
  },
  {
   "attachments": {},
   "cell_type": "markdown",
   "metadata": {},
   "source": [
    "<div>\n",
    "<img src=\"../images/Import_hardcoal_yearly.jpg\" width=\"800x500\"/>\n",
    "</div>\n",
    "\n",
    "The image on top shows Imports of hardcoal (in tonnes) from 2004 to 2022 yearly. The image at the bottom shows the Imports of hardcoal (in Euros per tonne) for the same time period. The image on top also shows a 3 year moving average.\n",
    "\n",
    "1. The 3 year moving average shows that from 2005 to 2010, the import of hardcoal was static around 650,000 tonnes. From 2010 to 2015, there is an average stead growth of 4.4%. This remains constant for the next two years and then there is a sharp decline on average of 6% between 2017 and 2019. \n",
    "\n",
    "2. Following this, the 3 year moving average is affected by the oncoming of COVID 19 which leads to a sudden increase in the quantity of imports of 26% on average.\n",
    "\n",
    "3. The second image shows that the cost of coal (EUR per tonne) varies steadily between 50EUR and 110EUR between the years 2004 and 2020. After 2020, probably due to the onset of COVID 19, the cost of coal imports per tonne sees a sharp increase of 114% on average.\n"
   ]
  },
  {
   "attachments": {},
   "cell_type": "markdown",
   "metadata": {},
   "source": [
    "---"
   ]
  },
  {
   "attachments": {},
   "cell_type": "markdown",
   "metadata": {},
   "source": [
    "### What is the trend of import through the year based on the month and how has it changed from 2004 to 2022?"
   ]
  },
  {
   "attachments": {},
   "cell_type": "markdown",
   "metadata": {},
   "source": [
    "Imports of coal in euros per tonne as a distribution through the months of the year\n",
    "\n",
    "<div>\n",
    "<img src=\"../images/Imports_hardcoal_eurospert_month.jpg\" width=\"700\"/>\n",
    "</div>"
   ]
  },
  {
   "attachments": {},
   "cell_type": "markdown",
   "metadata": {},
   "source": [
    "Imports of coal in tonnes as a distribution through the months of the year\n",
    "\n",
    "<div>\n",
    "<img src=\"../images/Imports_hardcoal_tonnes_compared_months.jpg\" width=\"700\"/>\n",
    "</div>"
   ]
  },
  {
   "attachments": {},
   "cell_type": "markdown",
   "metadata": {},
   "source": [
    "1. The first image shows the variation of the Imports of coal in euros per tonne through the months of the year. The data is split into 4 quaters to study their variation. From 2004 to 2018 the cost varies between 60EUR and 100EUR. From 2019 to 2022, the cost of import per tonne reaches its highest point and it is generally higher than it has been in the entire data range.\n",
    "\n",
    "2. In the second image we can see that the general trend of the amount if coal imported in tonnes is highest in the tail months of the year and reaches its lowest between June and August. "
   ]
  },
  {
   "attachments": {},
   "cell_type": "markdown",
   "metadata": {},
   "source": []
  }
 ],
 "metadata": {
  "language_info": {
   "name": "python"
  },
  "orig_nbformat": 4
 },
 "nbformat": 4,
 "nbformat_minor": 2
}
